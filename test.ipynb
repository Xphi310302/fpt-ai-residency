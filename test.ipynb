{
 "cells": [
  {
   "cell_type": "code",
   "execution_count": 112,
   "metadata": {},
   "outputs": [
    {
     "data": {
      "text/plain": [
       "True"
      ]
     },
     "execution_count": 112,
     "metadata": {},
     "output_type": "execute_result"
    }
   ],
   "source": [
    "from dotenv import load_dotenv\n",
    "\n",
    "load_dotenv()"
   ]
  },
  {
   "cell_type": "code",
   "execution_count": 109,
   "metadata": {},
   "outputs": [],
   "source": [
    "def get_option_probabilities(client, question, options):\n",
    "    \"\"\"Query the LLM to get probabilities for each option.\"\"\"\n",
    "    instruction = (\n",
    "        \"You are given a multiple-choice question. Assign a probability to each option based on correctness. \"\n",
    "        \"Return a JSON object where the keys are option letters and values are probabilities.\"\n",
    "    )\n",
    "\n",
    "    options_text = \"\\n\".join([f\"{letter}: {text}\" for letter, text in options.items()])\n",
    "    input_text = f\"Question: {question}\\nOptions:\\n{options_text}\"\n",
    "\n",
    "    response = client.beta.chat.completions.parse(\n",
    "        model=\"gpt-4o-mini\",\n",
    "        messages=[\n",
    "            {\"role\": \"system\", \"content\": instruction},\n",
    "            {\"role\": \"user\", \"content\": input_text},\n",
    "        ],\n",
    "        response_format={\"type\": \"json_object\"},\n",
    "    )\n",
    "\n",
    "    probabilities = eval(response.choices[0].message.content)\n",
    "    return probabilities\n",
    "\n",
    "\n",
    "def poe_id2_elimination(client, question, options_list):\n",
    "    \"\"\"Implements PoE_ID² to eliminate two least likely options and select the best answer.\"\"\"\n",
    "\n",
    "    # Convert list of options into a dictionary {letter: value}\n",
    "    options = {opt.split(\": \")[0]: opt.split(\": \")[1] for opt in options_list}\n",
    "\n",
    "    probabilities = get_option_probabilities(client, question, options)\n",
    "\n",
    "    # Sort options by probability\n",
    "    sorted_options = sorted(probabilities.items(), key=lambda x: x[1])\n",
    "\n",
    "    # Eliminate two options with the lowest probability\n",
    "    remaining_options = {letter: options[letter] for letter, _ in sorted_options[1:]}\n",
    "\n",
    "    # Recompute probabilities with the remaining options\n",
    "    probabilities = get_option_probabilities(client, question, remaining_options)\n",
    "\n",
    "    # Select the option with the highest probability\n",
    "    final_answer = max(probabilities, key=probabilities.get)\n",
    "\n",
    "    return final_answer\n"
   ]
  },
  {
   "cell_type": "code",
   "execution_count": 158,
   "metadata": {},
   "outputs": [],
   "source": [
    "import re\n",
    "\n",
    "\n",
    "def get_option_probabilities(client, question, options):\n",
    "    \"\"\"Query the LLM to get probabilities for each option.\"\"\"\n",
    "    instruction = \"\"\"You are given a multiple-choice question. \n",
    "    For each round, identify the option that is least likely to be correct.  \n",
    "    Continue until one option remains. Return a JSON object with the final probabilities for each option.\n",
    "    Outputformat should be in ```json\\n{{alphabet: probability}}``` brackets\n",
    "    alphabet should in one of [A, B, C, D ,E, F]. \n",
    "    Note: Only give least likely with no more explaination and output final probability\n",
    "    \"\"\"\n",
    "\n",
    "    options_text = \"\\n\".join([f\"{letter}: {text}\" for letter, text in options.items()])\n",
    "    input_text = f\"Question: {question}\\nOptions:\\n{options_text}\"\n",
    "\n",
    "    # probabilities = eval(response.choices[0].message.content)\n",
    "    response = client.responses.create(\n",
    "        model=\"gpt-4o-mini\",\n",
    "        instructions=instruction,\n",
    "        input=input_text,\n",
    "    )\n",
    "    print(response.output_text)\n",
    "    match = re.search(r\"```json\\s*({.*?})\\s*```\", response.output_text, re.DOTALL)\n",
    "    probabilities = match.group(1) if match else None\n",
    "    return eval(probabilities)\n",
    "\n",
    "\n",
    "def poe_id2_elimination(client, question, options_list):\n",
    "    \"\"\"Implements PoE_ID² to eliminate two least likely options and select the best answer.\"\"\"\n",
    "\n",
    "    # Convert list of options into a dictionary {letter: value}\n",
    "    options = {opt.split(\": \")[0]: opt.split(\": \")[1] for opt in options_list}\n",
    "\n",
    "    probabilities = get_option_probabilities(client, question, options)\n",
    "\n",
    "    # Sort options by probability\n",
    "    sorted_options = sorted(probabilities.items(), key=lambda x: x[1])\n",
    "\n",
    "    # Eliminate two options with the lowest probability\n",
    "    remaining_options = {letter: options[letter] for letter, _ in sorted_options[2:]}\n",
    "\n",
    "    # Recompute probabilities with the remaining options\n",
    "    probabilities = get_option_probabilities(client, question, remaining_options)\n",
    "\n",
    "    # Select the option with the highest probability\n",
    "    final_answer = max(probabilities, key=probabilities.get)\n",
    "\n",
    "    return final_answer\n"
   ]
  },
  {
   "cell_type": "code",
   "execution_count": 167,
   "metadata": {},
   "outputs": [
    {
     "name": "stdout",
     "output_type": "stream",
     "text": [
      "```json\n",
      "{\"A\":0.0,\"B\":0.5,\"C\":0.2,\"D\":0.3}\n",
      "```\n",
      "```json\n",
      "{\"D\": 0.2, \"B\": 0.8}\n",
      "```\n",
      "Final answer: B\n"
     ]
    }
   ],
   "source": [
    "from openai import OpenAI\n",
    "import os\n",
    "\n",
    "client = OpenAI(api_key=os.environ.get(\"OPENAI_API_KEY\"))\n",
    "question = \"\"\"Question: Consider a link with packet loss probability of 0.2. What is the expected number of transmissions it would take to transfer 200 packets given that the stop and wait protocol is used?\n",
    "\n",
    "\"\"\"\n",
    "options = [\"A: 125\", \"B: 250\", \"C: 225\", \"D: 150\"]\n",
    "# probabilities = get_option_probabilities(client, question, options)\n",
    "\n",
    "answer = poe_id2_elimination(client, question, options)\n",
    "print(f\"Final answer: {answer}\")\n"
   ]
  },
  {
   "cell_type": "code",
   "execution_count": 168,
   "metadata": {},
   "outputs": [
    {
     "name": "stdout",
     "output_type": "stream",
     "text": [
      "```json\n",
      "{\"answer\": \"B\"}\n",
      "```\n"
     ]
    }
   ],
   "source": [
    "ZERO_SHOT_TEMPLATE = \"\"\"\n",
    "The following are multiple choice questions (with answers) about software development.\n",
    "Note: Alphabet should be one option in (A,B,C,D,E,F,G)\n",
    "Question: {question}\n",
    "{multiple_choices}\n",
    "Answer in JSON format (in ```json``` brackets):\n",
    "```json\n",
    "{{\"answer\": \"Your selected option here\"}}\n",
    "``` \"\"\"\n",
    "input_text = ZERO_SHOT_TEMPLATE.format(question=question, multiple_choices=options)\n",
    "# probabilities = eval(response.choices[0].message.content)\n",
    "response = client.responses.create(\n",
    "    model=\"gpt-4o-mini\",\n",
    "    instructions=\"The answer selected from the multiple choice options should be one alphabet option (A,B,C,D,E,F).\",\n",
    "    input=input_text,\n",
    ")\n",
    "print(response.output_text)"
   ]
  },
  {
   "cell_type": "code",
   "execution_count": null,
   "metadata": {},
   "outputs": [],
   "source": []
  }
 ],
 "metadata": {
  "kernelspec": {
   "display_name": ".venv",
   "language": "python",
   "name": "python3"
  },
  "language_info": {
   "codemirror_mode": {
    "name": "ipython",
    "version": 3
   },
   "file_extension": ".py",
   "mimetype": "text/x-python",
   "name": "python",
   "nbconvert_exporter": "python",
   "pygments_lexer": "ipython3",
   "version": "3.11.11"
  }
 },
 "nbformat": 4,
 "nbformat_minor": 2
}
