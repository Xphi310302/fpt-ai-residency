{
 "cells": [
  {
   "cell_type": "code",
   "execution_count": 12,
   "metadata": {},
   "outputs": [
    {
     "name": "stdout",
     "output_type": "stream",
     "text": [
      "{\n",
      "  \"generated_text\": \"Here is a simple Python function that uses the Sieve of Eratosthenes algorithm to find all prime numbers up to n:\\n\\n```python\\ndef sieve_of_eratosthenes(n):\\n    primes = [True for i in range(n+1)]\\n    p = 2\\n    while (p * p <= n):\\n        if (primes[p] == True):\\n            for i in range(p * p, n+1, p):\\n                primes[i] = False\\n        p += 1\\n    prime_numbers = []\\n    for p in range(2, n):\\n        if primes[p]:\\n            prime_numbers.append(p)\\n    return prime_numbers\\n\\n# Test the function\\nprint(sieve_of_eratosthenes(30))\\n```\\n\\nThis function first initializes a list of boolean values representing whether each number is prime or not. It then iterates over each number starting from 2 and marks its multiples as non-prime. Finally, it returns a list of all prime numbers up to n.\\n\\nThe output of this script will be: `[2, 3, 5, 7, 11, 13, 17, 19, 23, 29]` which are all prime numbers less than or equal to 30.\"\n",
      "}\n"
     ]
    }
   ],
   "source": [
    "import json\n",
    "import requests\n",
    "\n",
    "\n",
    "def chat_completion(\n",
    "    prompt,\n",
    "    system_message=\"You are a helpful coding assistant.\",\n",
    "    max_tokens=512,\n",
    "    temperature=0.01,\n",
    "):\n",
    "    # Replace with your actual localtunnel URL\n",
    "    LOCALTUNNEL_URL = \"https://yummy-buses-behave.loca.lt\"\n",
    "\n",
    "    response = requests.post(\n",
    "        f\"{LOCALTUNNEL_URL}/chat/completions\",\n",
    "        headers={\"Content-Type\": \"application/json\"},\n",
    "        json={\n",
    "            \"messages\": [\n",
    "                {\"role\": \"system\", \"content\": system_message},\n",
    "                {\"role\": \"user\", \"content\": prompt},\n",
    "            ],\n",
    "            \"max_new_tokens\": max_tokens,\n",
    "            \"temperature\": temperature,\n",
    "        },\n",
    "    )\n",
    "\n",
    "    return response.json()\n",
    "\n",
    "\n",
    "# Example usage\n",
    "result = chat_completion(\"Write a Python function to find prime numbers up to n.\")\n",
    "print(json.dumps(result, indent=2))\n"
   ]
  },
  {
   "cell_type": "code",
   "execution_count": 17,
   "metadata": {},
   "outputs": [],
   "source": [
    "instructions = \"\"\"You are a coding assistant that help to answer multiple choices of software development and Extract final answer. \\\n",
    "                    The answer selected from the multiple choice options. Should be one alphabet option (A,B,C,D,E,F)\n",
    "                \"\"\"\n",
    "FEW_SHOT_TEMPLATE = \"\"\"\n",
    "The following are multiple choice questions (with answers) about software development.\n",
    "\n",
    "Question: If a sorted array of integers is guaranteed to not contain duplicate values, in order to search for a specific value which of the following algorithms is the most efficient for this task?\n",
    "(A) Bubble Sort\n",
    "(B) Linear Search\n",
    "(C) Insertion Sort\n",
    "(D) Binary Search\n",
    "\n",
    "Answer: {{\"answer\": \"D\"}}\n",
    "\n",
    "Question: {question}\n",
    "{multiple_choices}\n",
    "\n",
    "Answer in JSON format:\n",
    "```json\n",
    "{{\"answer\": \"Your selected option here\"}}\n",
    "``` \n",
    "\"\"\"\n",
    "question = \"\"\"\n",
    "Question: What will be output of the following c code?\n",
    "#include<stdio.h>\n",
    "int main()\n",
    "{\n",
    "    int a= sizeof(signed) +sizeof(unsigned);\n",
    "    int b=sizeof(const)+sizeof(volatile);\n",
    "    printf(\"\"%d\"\",a+++b);\n",
    "    return 0;\n",
    "}\n",
    "\"\"\"\n",
    "choices = \"\"\"\n",
    "['A: 10', 'B: 9', 'C: 8', 'D: Error']\n",
    "\"\"\"\n",
    "prompt = FEW_SHOT_TEMPLATE.format(question=question, multiple_choices=choices)\n",
    "output_json = chat_completion(prompt=prompt, system_message=instructions)"
   ]
  },
  {
   "cell_type": "code",
   "execution_count": 21,
   "metadata": {},
   "outputs": [
    {
     "data": {
      "text/plain": [
       "'```json\\n{\"answer\": \"D\"}\\n```'"
      ]
     },
     "execution_count": 21,
     "metadata": {},
     "output_type": "execute_result"
    }
   ],
   "source": [
    "output_json[\"generated_text\"]\n"
   ]
  }
 ],
 "metadata": {
  "kernelspec": {
   "display_name": ".venv",
   "language": "python",
   "name": "python3"
  },
  "language_info": {
   "codemirror_mode": {
    "name": "ipython",
    "version": 3
   },
   "file_extension": ".py",
   "mimetype": "text/x-python",
   "name": "python",
   "nbconvert_exporter": "python",
   "pygments_lexer": "ipython3",
   "version": "3.11.11"
  }
 },
 "nbformat": 4,
 "nbformat_minor": 2
}
