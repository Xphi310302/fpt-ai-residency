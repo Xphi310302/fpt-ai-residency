{
 "cells": [
  {
   "cell_type": "code",
   "execution_count": 1,
   "metadata": {},
   "outputs": [],
   "source": [
    "import pandas as pd\n",
    "import matplotlib.pyplot as plt\n",
    "import numpy as np"
   ]
  },
  {
   "cell_type": "markdown",
   "metadata": {},
   "source": [
    "# Train Data"
   ]
  },
  {
   "cell_type": "code",
   "execution_count": 2,
   "metadata": {},
   "outputs": [],
   "source": [
    "train_dir = \"data/b6_train_data.csv\"\n",
    "test_dir = \"data/b6_test_data.csv\""
   ]
  },
  {
   "cell_type": "code",
   "execution_count": 9,
   "metadata": {},
   "outputs": [
    {
     "data": {
      "text/html": [
       "<div>\n",
       "<style scoped>\n",
       "    .dataframe tbody tr th:only-of-type {\n",
       "        vertical-align: middle;\n",
       "    }\n",
       "\n",
       "    .dataframe tbody tr th {\n",
       "        vertical-align: top;\n",
       "    }\n",
       "\n",
       "    .dataframe thead th {\n",
       "        text-align: right;\n",
       "    }\n",
       "</style>\n",
       "<table border=\"1\" class=\"dataframe\">\n",
       "  <thead>\n",
       "    <tr style=\"text-align: right;\">\n",
       "      <th></th>\n",
       "      <th>task_id</th>\n",
       "      <th>question</th>\n",
       "      <th>choices</th>\n",
       "      <th>answer</th>\n",
       "    </tr>\n",
       "  </thead>\n",
       "  <tbody>\n",
       "    <tr>\n",
       "      <th>0</th>\n",
       "      <td>k10168</td>\n",
       "      <td>Question: What will be output of the following...</td>\n",
       "      <td>[8 4 2, 8 4 2, 8 4 4, 8 4 3]</td>\n",
       "      <td>C</td>\n",
       "    </tr>\n",
       "    <tr>\n",
       "      <th>1</th>\n",
       "      <td>k10173</td>\n",
       "      <td>Question: What will be output of the following...</td>\n",
       "      <td>[-4, -5, 10, 11]</td>\n",
       "      <td>A</td>\n",
       "    </tr>\n",
       "    <tr>\n",
       "      <th>2</th>\n",
       "      <td>k10174</td>\n",
       "      <td>Question: Match the following.\\n      Group 1 ...</td>\n",
       "      <td>[P-4. Q-1, R-2, S-3, P-3, Q-1, R-4, S-2, P-3, ...</td>\n",
       "      <td>B</td>\n",
       "    </tr>\n",
       "    <tr>\n",
       "      <th>3</th>\n",
       "      <td>k10175</td>\n",
       "      <td>Question: Match the following.\\nP. Regular exp...</td>\n",
       "      <td>[P-4. Q-1, R-2, S-3, P-3, Q-1, R-4, S-2, P-3, ...</td>\n",
       "      <td>B</td>\n",
       "    </tr>\n",
       "    <tr>\n",
       "      <th>4</th>\n",
       "      <td>k10176</td>\n",
       "      <td>Question: Which grammar rules violate the requ...</td>\n",
       "      <td>[1 only, 1 and 3 only, 2 and 3 only, 3 and 4 o...</td>\n",
       "      <td>B</td>\n",
       "    </tr>\n",
       "    <tr>\n",
       "      <th>...</th>\n",
       "      <td>...</td>\n",
       "      <td>...</td>\n",
       "      <td>...</td>\n",
       "      <td>...</td>\n",
       "    </tr>\n",
       "    <tr>\n",
       "      <th>3958</th>\n",
       "      <td>k00695</td>\n",
       "      <td>Question: Which technique is used in React Memo?</td>\n",
       "      <td>[Hashing, Memoization, Sorting, Pipelining]</td>\n",
       "      <td>B</td>\n",
       "    </tr>\n",
       "    <tr>\n",
       "      <th>3959</th>\n",
       "      <td>k00696</td>\n",
       "      <td>Question: What is the correct definition of pr...</td>\n",
       "      <td>[Concept of passing data as props through inte...</td>\n",
       "      <td>A</td>\n",
       "    </tr>\n",
       "    <tr>\n",
       "      <th>3960</th>\n",
       "      <td>k00697</td>\n",
       "      <td>Question: What is the correct syntax for  arro...</td>\n",
       "      <td>[(), =&gt;, ()=&gt;, &gt;=()]</td>\n",
       "      <td>C</td>\n",
       "    </tr>\n",
       "    <tr>\n",
       "      <th>3961</th>\n",
       "      <td>k00698</td>\n",
       "      <td>Question: Which of the following is the correc...</td>\n",
       "      <td>[It is a temporary storage of elements, It is ...</td>\n",
       "      <td>B</td>\n",
       "    </tr>\n",
       "    <tr>\n",
       "      <th>3962</th>\n",
       "      <td>k00701</td>\n",
       "      <td>Question: ___ can be done while multiple eleme...</td>\n",
       "      <td>[Abstraction, Packing, Insulation, Wrapping]</td>\n",
       "      <td>D</td>\n",
       "    </tr>\n",
       "  </tbody>\n",
       "</table>\n",
       "<p>3963 rows × 4 columns</p>\n",
       "</div>"
      ],
      "text/plain": [
       "     task_id                                           question  \\\n",
       "0     k10168  Question: What will be output of the following...   \n",
       "1     k10173  Question: What will be output of the following...   \n",
       "2     k10174  Question: Match the following.\\n      Group 1 ...   \n",
       "3     k10175  Question: Match the following.\\nP. Regular exp...   \n",
       "4     k10176  Question: Which grammar rules violate the requ...   \n",
       "...      ...                                                ...   \n",
       "3958  k00695   Question: Which technique is used in React Memo?   \n",
       "3959  k00696  Question: What is the correct definition of pr...   \n",
       "3960  k00697  Question: What is the correct syntax for  arro...   \n",
       "3961  k00698  Question: Which of the following is the correc...   \n",
       "3962  k00701  Question: ___ can be done while multiple eleme...   \n",
       "\n",
       "                                                choices answer  \n",
       "0                          [8 4 2, 8 4 2, 8 4 4, 8 4 3]      C  \n",
       "1                                      [-4, -5, 10, 11]      A  \n",
       "2     [P-4. Q-1, R-2, S-3, P-3, Q-1, R-4, S-2, P-3, ...      B  \n",
       "3     [P-4. Q-1, R-2, S-3, P-3, Q-1, R-4, S-2, P-3, ...      B  \n",
       "4     [1 only, 1 and 3 only, 2 and 3 only, 3 and 4 o...      B  \n",
       "...                                                 ...    ...  \n",
       "3958        [Hashing, Memoization, Sorting, Pipelining]      B  \n",
       "3959  [Concept of passing data as props through inte...      A  \n",
       "3960                               [(), =>, ()=>, >=()]      C  \n",
       "3961  [It is a temporary storage of elements, It is ...      B  \n",
       "3962       [Abstraction, Packing, Insulation, Wrapping]      D  \n",
       "\n",
       "[3963 rows x 4 columns]"
      ]
     },
     "execution_count": 9,
     "metadata": {},
     "output_type": "execute_result"
    }
   ],
   "source": [
    "train_df = pd.read_csv(train_dir)\n",
    "train_df[\"choices\"] = train_df[\"choices\"].apply(lambda x: eval(x))\n",
    "train_df"
   ]
  },
  {
   "cell_type": "code",
   "execution_count": 39,
   "metadata": {},
   "outputs": [
    {
     "data": {
      "text/plain": [
       "array(['C', 'A', 'B', 'D', 'ANSWER: C', 'ANSWER: B', 'ANSWER: D',\n",
       "       'ANSWER: A', 'E', 'G', nan, 'ANSWER:  D'], dtype=object)"
      ]
     },
     "execution_count": 39,
     "metadata": {},
     "output_type": "execute_result"
    }
   ],
   "source": [
    "train_df[\"answer\"].unique()"
   ]
  },
  {
   "cell_type": "code",
   "execution_count": 11,
   "metadata": {},
   "outputs": [
    {
     "data": {
      "text/plain": [
       "['8 4 2', '8 4 2', '8 4 4', '8 4 3']"
      ]
     },
     "execution_count": 11,
     "metadata": {},
     "output_type": "execute_result"
    }
   ],
   "source": [
    "sample = train_df.iloc[0]\n",
    "sample[\"choices\"]\n"
   ]
  },
  {
   "cell_type": "markdown",
   "metadata": {},
   "source": [
    "Test all the format of answer if it it a list with 4 elements"
   ]
  },
  {
   "cell_type": "code",
   "execution_count": 32,
   "metadata": {},
   "outputs": [
    {
     "name": "stdout",
     "output_type": "stream",
     "text": [
      "All answers have correct format: False\n",
      "Number of incorrect formats: 3949\n"
     ]
    }
   ],
   "source": [
    "def check_answer_format(choices):\n",
    "    return isinstance(choices, list) and (len(choices) == 0)\n",
    "\n",
    "\n",
    "format_check = train_df[\"choices\"].apply(check_answer_format)\n",
    "print(f\"All answers have correct format: {format_check.all()}\")\n",
    "print(f\"Number of incorrect formats: {(~format_check).sum()}\")\n"
   ]
  },
  {
   "cell_type": "code",
   "execution_count": 36,
   "metadata": {},
   "outputs": [
    {
     "data": {
      "text/html": [
       "<div>\n",
       "<style scoped>\n",
       "    .dataframe tbody tr th:only-of-type {\n",
       "        vertical-align: middle;\n",
       "    }\n",
       "\n",
       "    .dataframe tbody tr th {\n",
       "        vertical-align: top;\n",
       "    }\n",
       "\n",
       "    .dataframe thead th {\n",
       "        text-align: right;\n",
       "    }\n",
       "</style>\n",
       "<table border=\"1\" class=\"dataframe\">\n",
       "  <thead>\n",
       "    <tr style=\"text-align: right;\">\n",
       "      <th></th>\n",
       "      <th>task_id</th>\n",
       "      <th>question</th>\n",
       "      <th>choices</th>\n",
       "      <th>answer</th>\n",
       "    </tr>\n",
       "  </thead>\n",
       "  <tbody>\n",
       "    <tr>\n",
       "      <th>1910</th>\n",
       "      <td>k06940</td>\n",
       "      <td>Question: Consider the grammar\\rS→ bSe\\r\\nS→ P...</td>\n",
       "      <td>[]</td>\n",
       "      <td>NaN</td>\n",
       "    </tr>\n",
       "    <tr>\n",
       "      <th>2192</th>\n",
       "      <td>k08831</td>\n",
       "      <td>Question: A complete, undirected, weighted gra...</td>\n",
       "      <td>[]</td>\n",
       "      <td>NaN</td>\n",
       "    </tr>\n",
       "    <tr>\n",
       "      <th>2220</th>\n",
       "      <td>k08951</td>\n",
       "      <td>Question: Solve the following recurrence relat...</td>\n",
       "      <td>[]</td>\n",
       "      <td>NaN</td>\n",
       "    </tr>\n",
       "    <tr>\n",
       "      <th>2235</th>\n",
       "      <td>k09031</td>\n",
       "      <td>Question: A complete, undirected, weighted gra...</td>\n",
       "      <td>[]</td>\n",
       "      <td>NaN</td>\n",
       "    </tr>\n",
       "    <tr>\n",
       "      <th>2236</th>\n",
       "      <td>k09032</td>\n",
       "      <td>Question: A two dimensional array A[1...n][1.....</td>\n",
       "      <td>[]</td>\n",
       "      <td>NaN</td>\n",
       "    </tr>\n",
       "    <tr>\n",
       "      <th>2293</th>\n",
       "      <td>k09276</td>\n",
       "      <td>Question: Let G be the directed, weighted grap...</td>\n",
       "      <td>[]</td>\n",
       "      <td>NaN</td>\n",
       "    </tr>\n",
       "    <tr>\n",
       "      <th>2324</th>\n",
       "      <td>k09414</td>\n",
       "      <td>Question: Let G be the directed, weighted grap...</td>\n",
       "      <td>[]</td>\n",
       "      <td>NaN</td>\n",
       "    </tr>\n",
       "    <tr>\n",
       "      <th>2393</th>\n",
       "      <td>k09778</td>\n",
       "      <td>Question: Consider the following function\\rFun...</td>\n",
       "      <td>[]</td>\n",
       "      <td>NaN</td>\n",
       "    </tr>\n",
       "    <tr>\n",
       "      <th>2396</th>\n",
       "      <td>k09802</td>\n",
       "      <td>Question: A language L is a subset of Pascal w...</td>\n",
       "      <td>[]</td>\n",
       "      <td>NaN</td>\n",
       "    </tr>\n",
       "    <tr>\n",
       "      <th>2546</th>\n",
       "      <td>k07909</td>\n",
       "      <td>Question: Consider the following relational da...</td>\n",
       "      <td>[]</td>\n",
       "      <td>NaN</td>\n",
       "    </tr>\n",
       "    <tr>\n",
       "      <th>2547</th>\n",
       "      <td>k07910</td>\n",
       "      <td>Question: Consider the following relational da...</td>\n",
       "      <td>[]</td>\n",
       "      <td>NaN</td>\n",
       "    </tr>\n",
       "    <tr>\n",
       "      <th>2548</th>\n",
       "      <td>k07911</td>\n",
       "      <td>Question: Suppose we have a database consistin...</td>\n",
       "      <td>[]</td>\n",
       "      <td>NaN</td>\n",
       "    </tr>\n",
       "    <tr>\n",
       "      <th>2653</th>\n",
       "      <td>k08016</td>\n",
       "      <td>Question: Consider the following database rela...</td>\n",
       "      <td>[]</td>\n",
       "      <td>NaN</td>\n",
       "    </tr>\n",
       "    <tr>\n",
       "      <th>3265</th>\n",
       "      <td>k05124</td>\n",
       "      <td>Question: Consider the following program in ps...</td>\n",
       "      <td>[]</td>\n",
       "      <td>NaN</td>\n",
       "    </tr>\n",
       "  </tbody>\n",
       "</table>\n",
       "</div>"
      ],
      "text/plain": [
       "     task_id                                           question choices answer\n",
       "1910  k06940  Question: Consider the grammar\\rS→ bSe\\r\\nS→ P...      []    NaN\n",
       "2192  k08831  Question: A complete, undirected, weighted gra...      []    NaN\n",
       "2220  k08951  Question: Solve the following recurrence relat...      []    NaN\n",
       "2235  k09031  Question: A complete, undirected, weighted gra...      []    NaN\n",
       "2236  k09032  Question: A two dimensional array A[1...n][1.....      []    NaN\n",
       "2293  k09276  Question: Let G be the directed, weighted grap...      []    NaN\n",
       "2324  k09414  Question: Let G be the directed, weighted grap...      []    NaN\n",
       "2393  k09778  Question: Consider the following function\\rFun...      []    NaN\n",
       "2396  k09802  Question: A language L is a subset of Pascal w...      []    NaN\n",
       "2546  k07909  Question: Consider the following relational da...      []    NaN\n",
       "2547  k07910  Question: Consider the following relational da...      []    NaN\n",
       "2548  k07911  Question: Suppose we have a database consistin...      []    NaN\n",
       "2653  k08016  Question: Consider the following database rela...      []    NaN\n",
       "3265  k05124  Question: Consider the following program in ps...      []    NaN"
      ]
     },
     "execution_count": 36,
     "metadata": {},
     "output_type": "execute_result"
    }
   ],
   "source": [
    "incorrect_formats = train_df[format_check]\n",
    "incorrect_formats\n"
   ]
  },
  {
   "cell_type": "code",
   "execution_count": 37,
   "metadata": {},
   "outputs": [
    {
     "data": {
      "text/plain": [
       "'Question: A complete, undirected, weighted graph G is given on the vertex {0, 1,...., n−1} for any fixed ‘n’. Draw the minimum spanning tree of G if\\r\\ra) the weight of the edge (u,v) is ∣ u−v ∣\\rb) the weight of the edge (u,v) is u + v'"
      ]
     },
     "execution_count": 37,
     "metadata": {},
     "output_type": "execute_result"
    }
   ],
   "source": [
    "incorrect_sample = incorrect_formats.iloc[1]\n",
    "incorrect_sample[\"question\"]\n"
   ]
  },
  {
   "cell_type": "code",
   "execution_count": 35,
   "metadata": {},
   "outputs": [
    {
     "data": {
      "text/plain": [
       "['-4', '-5', '10', '11']"
      ]
     },
     "execution_count": 35,
     "metadata": {},
     "output_type": "execute_result"
    }
   ],
   "source": [
    "incorrect_sample[\"choices\"]\n"
   ]
  },
  {
   "cell_type": "markdown",
   "metadata": {},
   "source": [
    "# Test Data"
   ]
  },
  {
   "cell_type": "code",
   "execution_count": 47,
   "metadata": {},
   "outputs": [
    {
     "data": {
      "text/html": [
       "<div>\n",
       "<style scoped>\n",
       "    .dataframe tbody tr th:only-of-type {\n",
       "        vertical-align: middle;\n",
       "    }\n",
       "\n",
       "    .dataframe tbody tr th {\n",
       "        vertical-align: top;\n",
       "    }\n",
       "\n",
       "    .dataframe thead th {\n",
       "        text-align: right;\n",
       "    }\n",
       "</style>\n",
       "<table border=\"1\" class=\"dataframe\">\n",
       "  <thead>\n",
       "    <tr style=\"text-align: right;\">\n",
       "      <th></th>\n",
       "      <th>task_id</th>\n",
       "      <th>question</th>\n",
       "      <th>choices</th>\n",
       "    </tr>\n",
       "  </thead>\n",
       "  <tbody>\n",
       "    <tr>\n",
       "      <th>0</th>\n",
       "      <td>k10171</td>\n",
       "      <td>Question: What will be output of the following...</td>\n",
       "      <td>[10, 9, 8, Error]</td>\n",
       "    </tr>\n",
       "    <tr>\n",
       "      <th>1</th>\n",
       "      <td>k10182</td>\n",
       "      <td>Question: Consider line 3. Identify the compil...</td>\n",
       "      <td>[No compilation error, Only a lexical error, O...</td>\n",
       "    </tr>\n",
       "    <tr>\n",
       "      <th>2</th>\n",
       "      <td>k10184</td>\n",
       "      <td>Question: Assume the conflicts part (a) of thi...</td>\n",
       "      <td>[Equal precedence and left associativity; expr...</td>\n",
       "    </tr>\n",
       "    <tr>\n",
       "      <th>3</th>\n",
       "      <td>k10206</td>\n",
       "      <td>Question: What will be output if you will exec...</td>\n",
       "      <td>[2.00000, 4.00000, 6.00000, Compilation error]</td>\n",
       "    </tr>\n",
       "    <tr>\n",
       "      <th>4</th>\n",
       "      <td>k10215</td>\n",
       "      <td>Question: Select the output for code :\\nstatic...</td>\n",
       "      <td>[amish, ANKIT, harsh, Compile time error]</td>\n",
       "    </tr>\n",
       "    <tr>\n",
       "      <th>...</th>\n",
       "      <td>...</td>\n",
       "      <td>...</td>\n",
       "      <td>...</td>\n",
       "    </tr>\n",
       "    <tr>\n",
       "      <th>1248</th>\n",
       "      <td>k00687</td>\n",
       "      <td>Question: Which React lifecycle method is call...</td>\n",
       "      <td>[componentWillMount, componentDidMount, compon...</td>\n",
       "    </tr>\n",
       "    <tr>\n",
       "      <th>1249</th>\n",
       "      <td>k00689</td>\n",
       "      <td>Question: What do you need to change about thi...</td>\n",
       "      <td>[Remove this, Capitalize clock, Remove the ren...</td>\n",
       "    </tr>\n",
       "    <tr>\n",
       "      <th>1250</th>\n",
       "      <td>k00691</td>\n",
       "      <td>Question: What happens when the following rend...</td>\n",
       "      <td>[Error. Cannot use direct JavaScript code in J...</td>\n",
       "    </tr>\n",
       "    <tr>\n",
       "      <th>1251</th>\n",
       "      <td>k00699</td>\n",
       "      <td>Question: How many types of components are the...</td>\n",
       "      <td>[1, 2, 3, 4]</td>\n",
       "    </tr>\n",
       "    <tr>\n",
       "      <th>1252</th>\n",
       "      <td>k00700</td>\n",
       "      <td>Question: How do you access the updated state ...</td>\n",
       "      <td>[It's automatically available in the next line...</td>\n",
       "    </tr>\n",
       "  </tbody>\n",
       "</table>\n",
       "<p>1253 rows × 3 columns</p>\n",
       "</div>"
      ],
      "text/plain": [
       "     task_id                                           question  \\\n",
       "0     k10171  Question: What will be output of the following...   \n",
       "1     k10182  Question: Consider line 3. Identify the compil...   \n",
       "2     k10184  Question: Assume the conflicts part (a) of thi...   \n",
       "3     k10206  Question: What will be output if you will exec...   \n",
       "4     k10215  Question: Select the output for code :\\nstatic...   \n",
       "...      ...                                                ...   \n",
       "1248  k00687  Question: Which React lifecycle method is call...   \n",
       "1249  k00689  Question: What do you need to change about thi...   \n",
       "1250  k00691  Question: What happens when the following rend...   \n",
       "1251  k00699  Question: How many types of components are the...   \n",
       "1252  k00700  Question: How do you access the updated state ...   \n",
       "\n",
       "                                                choices  \n",
       "0                                     [10, 9, 8, Error]  \n",
       "1     [No compilation error, Only a lexical error, O...  \n",
       "2     [Equal precedence and left associativity; expr...  \n",
       "3        [2.00000, 4.00000, 6.00000, Compilation error]  \n",
       "4             [amish, ANKIT, harsh, Compile time error]  \n",
       "...                                                 ...  \n",
       "1248  [componentWillMount, componentDidMount, compon...  \n",
       "1249  [Remove this, Capitalize clock, Remove the ren...  \n",
       "1250  [Error. Cannot use direct JavaScript code in J...  \n",
       "1251                                       [1, 2, 3, 4]  \n",
       "1252  [It's automatically available in the next line...  \n",
       "\n",
       "[1253 rows x 3 columns]"
      ]
     },
     "execution_count": 47,
     "metadata": {},
     "output_type": "execute_result"
    }
   ],
   "source": [
    "test_dir = \"data/b6_test_data.csv\"\n",
    "test_df = pd.read_csv(test_dir)\n",
    "test_df[\"choices\"] = test_df[\"choices\"].apply(lambda x: eval(x))\n",
    "test_df\n"
   ]
  },
  {
   "cell_type": "code",
   "execution_count": 42,
   "metadata": {},
   "outputs": [
    {
     "name": "stdout",
     "output_type": "stream",
     "text": [
      "All answers have correct format: False\n",
      "Number of incorrect formats: 1253\n"
     ]
    }
   ],
   "source": [
    "def check_answer_format(choices):\n",
    "    return isinstance(choices, list) and (len(choices) == 0)\n",
    "\n",
    "\n",
    "format_check = test_df[\"choices\"].apply(check_answer_format)\n",
    "print(f\"All answers have correct format: {format_check.all()}\")\n",
    "print(f\"Number of incorrect formats: {(~format_check).sum()}\")\n"
   ]
  },
  {
   "cell_type": "code",
   "execution_count": 45,
   "metadata": {},
   "outputs": [
    {
     "data": {
      "text/plain": [
       "'Question: Look at the problem below, the solution is missing a part, which option is the most likely to complete the solution and achieve the desired goal?\\n\\nProblem description: Given an array of intervals intervals where intervals[i] = [starti, endi], return the minimum number of intervals you need to remove to make the rest of the intervals non-overlapping.\\n\\nIncomplete Solution:\\nclass Solution:\\n  def eraseOverlapIntervals(self, intervals: List[List[int]]) -> int:\\n    ans = 0\\n    currentEnd = -math.inf\\n\\n    for interval in sorted(intervals, key=lambda x: x[1]):\\n      _______________\\n      if interval[0] >= currentEnd:\\n        currentEnd = interval[1]\\n      else:\\n        ans += 1\\n\\n    return ans'"
      ]
     },
     "execution_count": 45,
     "metadata": {},
     "output_type": "execute_result"
    }
   ],
   "source": [
    "sample = test_df.iloc[250]\n",
    "sample[\"question\"]\n"
   ]
  },
  {
   "cell_type": "code",
   "execution_count": 46,
   "metadata": {},
   "outputs": [
    {
     "data": {
      "text/plain": [
       "['      if interval[0] > currentEnd:',\n",
       " '      if all(interval[0] >= currentEnd for _ in range(1)):',\n",
       " '      if interval[0] >= currentEnd:',\n",
       " '      if interval[0] > min(interval[0], currentEnd):']"
      ]
     },
     "execution_count": 46,
     "metadata": {},
     "output_type": "execute_result"
    }
   ],
   "source": [
    "sample[\"choices\"]"
   ]
  },
  {
   "cell_type": "code",
   "execution_count": null,
   "metadata": {},
   "outputs": [],
   "source": []
  }
 ],
 "metadata": {
  "kernelspec": {
   "display_name": ".venv",
   "language": "python",
   "name": "python3"
  },
  "language_info": {
   "codemirror_mode": {
    "name": "ipython",
    "version": 3
   },
   "file_extension": ".py",
   "mimetype": "text/x-python",
   "name": "python",
   "nbconvert_exporter": "python",
   "pygments_lexer": "ipython3",
   "version": "3.11.11"
  }
 },
 "nbformat": 4,
 "nbformat_minor": 2
}
